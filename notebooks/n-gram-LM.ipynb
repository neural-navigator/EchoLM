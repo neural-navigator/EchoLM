{
 "cells": [
  {
   "cell_type": "code",
   "execution_count": 118,
   "id": "2a1a0e18-cbd3-4511-9feb-6205db9ed342",
   "metadata": {},
   "outputs": [],
   "source": [
    "import json\n",
    "import math\n",
    "from collections import defaultdict\n",
    "import math"
   ]
  },
  {
   "cell_type": "code",
   "execution_count": 36,
   "id": "d61b96d1-df3b-45de-91e8-cee670a703b1",
   "metadata": {},
   "outputs": [],
   "source": [
    "def load_data(data_path):\n",
    "    with open(data_path, \"r\") as f:\n",
    "        data = f.read()\n",
    "    data = data.lower().replace(\"\\n\", \" \")\n",
    "    return data"
   ]
  },
  {
   "cell_type": "code",
   "execution_count": 37,
   "id": "1384230c-7e07-470a-a011-2ab2f6e8e015",
   "metadata": {},
   "outputs": [],
   "source": [
    "data = load_data(\"data.txt\")"
   ]
  },
  {
   "cell_type": "code",
   "execution_count": 121,
   "id": "a885cdca-30ca-49a9-8e79-c4d0058c3d08",
   "metadata": {},
   "outputs": [],
   "source": [
    "# data"
   ]
  },
  {
   "cell_type": "code",
   "execution_count": 63,
   "id": "86f286d8-2119-4cd5-9730-9c014e501fe1",
   "metadata": {},
   "outputs": [],
   "source": [
    "n_params = 10\n",
    "state = [{} for i in range(n_params)]\n",
    "vocab_size = len(set(data.split()))"
   ]
  },
  {
   "cell_type": "code",
   "execution_count": 87,
   "id": "850a5bcf-aa10-4ef7-bbec-bea61e164918",
   "metadata": {},
   "outputs": [],
   "source": [
    "train(data)"
   ]
  },
  {
   "cell_type": "code",
   "execution_count": 40,
   "id": "a224227e-c307-427e-b5a6-fb95c08b1ca1",
   "metadata": {},
   "outputs": [],
   "source": [
    "def train(data):\n",
    "    training_data = data.split()\n",
    "    for i in range(n_params):\n",
    "        for idx, j in enumerate(training_data):\n",
    "            if idx + i >= len(training_data):\n",
    "                break\n",
    "            context = tuple(training_data[idx: idx+i])\n",
    "            next_token = training_data[idx+i]\n",
    "            if context not in state[i]:\n",
    "                state[i][context] = defaultdict(int)\n",
    "            state[i][context][next_token] = state[i][context][next_token] + 1"
   ]
  },
  {
   "cell_type": "code",
   "execution_count": 119,
   "id": "8116907f-5bf6-4a5a-bd02-73430da1dd01",
   "metadata": {},
   "outputs": [],
   "source": [
    "def get_log_probs(state):\n",
    "    log_probs = []\n",
    "    for item in state:\n",
    "        log_dict = {}\n",
    "        for k, v in item.items():\n",
    "            total_count = sum(v.values())\n",
    "            log_dict[k] = {k1: math.log((v1+1) / (total_count + vocab_size)) for k1, v1 in v.items()}\n",
    "        log_probs.append(log_dict)\n",
    "    return log_probs"
   ]
  },
  {
   "cell_type": "code",
   "execution_count": 146,
   "id": "4110c740-cb52-4156-a802-f445fca88c08",
   "metadata": {},
   "outputs": [],
   "source": [
    "def get_perplexity(test_data, log_probs):\n",
    "    test_tokens = test_data.lower().split()\n",
    "    n_tokens = len(test_tokens)\n",
    "    log_liklihood = 0\n",
    "    if n_tokens > n_params:\n",
    "        context = test_data[-n_params:]\n",
    "    else:\n",
    "        context = test_data\n",
    "    for i in range(n_tokens):\n",
    "        context = tuple(test_tokens[:i])\n",
    "        token = test_tokens[i]\n",
    "        log_liklihood += log_probs[i].get(context, {}).get(token, math.log(1e-10))\n",
    "    avg_log_liklihood = log_liklihood / n_tokens\n",
    "    perplexity = math.exp(-avg_log_liklihood)\n",
    "    return perplexity"
   ]
  },
  {
   "cell_type": "code",
   "execution_count": 147,
   "id": "41be9269-9c89-4162-ad80-6582392508aa",
   "metadata": {},
   "outputs": [],
   "source": [
    "log_probs = get_log_probs(state)\n",
    "data = get_perplexity(\"a quick brown\", log_probs)"
   ]
  },
  {
   "cell_type": "code",
   "execution_count": null,
   "id": "a0313ed7-cf56-415c-b33d-e7386e5b85ef",
   "metadata": {},
   "outputs": [],
   "source": []
  },
  {
   "cell_type": "code",
   "execution_count": null,
   "id": "543b289e-b3d4-45b9-b6c2-276a6e52c8a7",
   "metadata": {},
   "outputs": [],
   "source": []
  },
  {
   "cell_type": "code",
   "execution_count": null,
   "id": "ee420bac-67e5-405c-af37-a878b16f75b3",
   "metadata": {},
   "outputs": [],
   "source": []
  },
  {
   "cell_type": "code",
   "execution_count": null,
   "id": "146786c1-4271-46d9-99b3-28c11879f386",
   "metadata": {},
   "outputs": [],
   "source": []
  },
  {
   "cell_type": "code",
   "execution_count": null,
   "id": "3357110a-c675-470c-951f-0748c9d429a5",
   "metadata": {},
   "outputs": [],
   "source": []
  },
  {
   "cell_type": "code",
   "execution_count": null,
   "id": "4bb1a056-593d-4ca9-8b99-648db813bf4e",
   "metadata": {},
   "outputs": [],
   "source": []
  },
  {
   "cell_type": "code",
   "execution_count": null,
   "id": "c48d6590-364c-4595-9d33-c8cabc7db824",
   "metadata": {},
   "outputs": [],
   "source": []
  }
 ],
 "metadata": {
  "kernelspec": {
   "display_name": "Python 3 (ipykernel)",
   "language": "python",
   "name": "python3"
  },
  "language_info": {
   "codemirror_mode": {
    "name": "ipython",
    "version": 3
   },
   "file_extension": ".py",
   "mimetype": "text/x-python",
   "name": "python",
   "nbconvert_exporter": "python",
   "pygments_lexer": "ipython3",
   "version": "3.12.7"
  }
 },
 "nbformat": 4,
 "nbformat_minor": 5
}
